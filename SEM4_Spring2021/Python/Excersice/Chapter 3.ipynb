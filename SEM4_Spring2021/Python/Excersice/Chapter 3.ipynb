{
 "cells": [
  {
   "cell_type": "code",
   "execution_count": 1,
   "metadata": {},
   "outputs": [
    {
     "data": {
      "text/plain": [
       "True"
      ]
     },
     "execution_count": 1,
     "metadata": {},
     "output_type": "execute_result"
    }
   ],
   "source": [
    "#simple comparison\n",
    "5==5"
   ]
  },
  {
   "cell_type": "code",
   "execution_count": 2,
   "metadata": {},
   "outputs": [
    {
     "data": {
      "text/plain": [
       "False"
      ]
     },
     "execution_count": 2,
     "metadata": {},
     "output_type": "execute_result"
    }
   ],
   "source": [
    "5==4"
   ]
  },
  {
   "cell_type": "code",
   "execution_count": 3,
   "metadata": {},
   "outputs": [
    {
     "data": {
      "text/plain": [
       "True"
      ]
     },
     "execution_count": 3,
     "metadata": {},
     "output_type": "execute_result"
    }
   ],
   "source": [
    "#you can also compare strings\n",
    "'hello' == 'hello'"
   ]
  },
  {
   "cell_type": "code",
   "execution_count": 4,
   "metadata": {},
   "outputs": [],
   "source": [
    "#Note the difference between an assignment statement '=', and a comparison operator '=='\n",
    "hello = 'hello'"
   ]
  },
  {
   "cell_type": "code",
   "execution_count": 5,
   "metadata": {},
   "outputs": [
    {
     "data": {
      "text/plain": [
       "6"
      ]
     },
     "execution_count": 5,
     "metadata": {},
     "output_type": "execute_result"
    }
   ],
   "source": [
    "#Boolean type actually have values! Binary values\n",
    "True + 5"
   ]
  },
  {
   "cell_type": "code",
   "execution_count": 6,
   "metadata": {},
   "outputs": [
    {
     "data": {
      "text/plain": [
       "0"
      ]
     },
     "execution_count": 6,
     "metadata": {},
     "output_type": "execute_result"
    }
   ],
   "source": [
    "False * 5"
   ]
  },
  {
   "cell_type": "code",
   "execution_count": 7,
   "metadata": {},
   "outputs": [
    {
     "name": "stdout",
     "output_type": "stream",
     "text": [
      "False\n"
     ]
    }
   ],
   "source": [
    "#take a guess of what the result will be?\n",
    "x = (5==5)\n",
    "y = (x==5)\n",
    "print(y)"
   ]
  },
  {
   "cell_type": "code",
   "execution_count": 9,
   "metadata": {},
   "outputs": [
    {
     "name": "stdout",
     "output_type": "stream",
     "text": [
      "please enter a positive number:77\n"
     ]
    },
    {
     "data": {
      "text/plain": [
       "False"
      ]
     },
     "execution_count": 9,
     "metadata": {},
     "output_type": "execute_result"
    }
   ],
   "source": [
    "#logical boolean operators: and\n",
    "inp = input('please enter a positive number:')\n",
    "x = float(inp)\n",
    "x > 0 and x < 10"
   ]
  },
  {
   "cell_type": "code",
   "execution_count": 10,
   "metadata": {},
   "outputs": [
    {
     "name": "stdout",
     "output_type": "stream",
     "text": [
      "please enter a positive number:45\n"
     ]
    },
    {
     "data": {
      "text/plain": [
       "True"
      ]
     },
     "execution_count": 10,
     "metadata": {},
     "output_type": "execute_result"
    }
   ],
   "source": [
    "#logical boolean operators: or\n",
    "inp = input('please enter a positive number:')\n",
    "x = float(inp)\n",
    "x > 0 or x < 10"
   ]
  },
  {
   "cell_type": "code",
   "execution_count": 11,
   "metadata": {},
   "outputs": [
    {
     "name": "stdout",
     "output_type": "stream",
     "text": [
      "please enter a positive number:8\n"
     ]
    },
    {
     "data": {
      "text/plain": [
       "False"
      ]
     },
     "execution_count": 11,
     "metadata": {},
     "output_type": "execute_result"
    }
   ],
   "source": [
    "#logical boolean operators: not\n",
    "inp = input('please enter a positive number:')\n",
    "x = float(inp)\n",
    "not x < 10"
   ]
  },
  {
   "cell_type": "code",
   "execution_count": 12,
   "metadata": {},
   "outputs": [
    {
     "name": "stdout",
     "output_type": "stream",
     "text": [
      "Please enter a number:8\n"
     ]
    },
    {
     "ename": "TypeError",
     "evalue": "'<' not supported between instances of 'str' and 'int'",
     "output_type": "error",
     "traceback": [
      "\u001b[1;31m---------------------------------------------------------------------------\u001b[0m",
      "\u001b[1;31mTypeError\u001b[0m                                 Traceback (most recent call last)",
      "\u001b[1;32m<ipython-input-12-d8c24425a7be>\u001b[0m in \u001b[0;36m<module>\u001b[1;34m\u001b[0m\n\u001b[0;32m      1\u001b[0m \u001b[1;31m#conditional execution, 2 different conditions\u001b[0m\u001b[1;33m\u001b[0m\u001b[1;33m\u001b[0m\u001b[1;33m\u001b[0m\u001b[0m\n\u001b[0;32m      2\u001b[0m \u001b[0mx\u001b[0m \u001b[1;33m=\u001b[0m \u001b[0minput\u001b[0m\u001b[1;33m(\u001b[0m\u001b[1;34m'Please enter a number:'\u001b[0m\u001b[1;33m)\u001b[0m\u001b[1;33m\u001b[0m\u001b[1;33m\u001b[0m\u001b[0m\n\u001b[1;32m----> 3\u001b[1;33m \u001b[1;32mif\u001b[0m \u001b[0mx\u001b[0m \u001b[1;33m<\u001b[0m \u001b[1;36m10\u001b[0m\u001b[1;33m:\u001b[0m\u001b[1;33m\u001b[0m\u001b[1;33m\u001b[0m\u001b[0m\n\u001b[0m\u001b[0;32m      4\u001b[0m    \u001b[0mprint\u001b[0m\u001b[1;33m(\u001b[0m\u001b[1;34m'Smaller'\u001b[0m\u001b[1;33m)\u001b[0m \u001b[1;31m#note the identation of this line\u001b[0m\u001b[1;33m\u001b[0m\u001b[1;33m\u001b[0m\u001b[0m\n\u001b[0;32m      5\u001b[0m \u001b[1;32mif\u001b[0m \u001b[0mx\u001b[0m \u001b[1;33m>\u001b[0m \u001b[1;36m20\u001b[0m\u001b[1;33m:\u001b[0m          \u001b[1;31m#note that this line is backed to the beginning, python will know this is the start of a new command\u001b[0m\u001b[1;33m\u001b[0m\u001b[1;33m\u001b[0m\u001b[0m\n",
      "\u001b[1;31mTypeError\u001b[0m: '<' not supported between instances of 'str' and 'int'"
     ]
    }
   ],
   "source": [
    "#conditional execution, 2 different conditions\n",
    "x = input('Please enter a number:')\n",
    "if x < 10:\n",
    "   print('Smaller') #note the identation of this line\n",
    "if x > 20:          #note that this line is backed to the beginning, python will know this is the start of a new command\n",
    "   print('Bigger') \n",
    "print('Finished')"
   ]
  },
  {
   "cell_type": "code",
   "execution_count": null,
   "metadata": {},
   "outputs": [],
   "source": [
    "#however, the 2 conditions here do not cover all the possibilities, if I enter 12, python does not know what to do\n",
    "x = input('Please enter a number:')\n",
    "if x < 10:\n",
    "   print('Smaller') #note the identation of this line\n",
    "if x > 20:          #note that this line is backed to the beginning, python will know this is the start of a new command\n",
    "   print('Bigger') \n",
    "print('Finished')"
   ]
  },
  {
   "cell_type": "code",
   "execution_count": null,
   "metadata": {},
   "outputs": [],
   "source": [
    "#so we need a alternate execution to \"catch\" all other possibilities\n",
    "x = 12\n",
    "if x < 3: #this only runs if the condition is met\n",
    "    print('x is smaller than 3')   \n",
    "else:    #this only runs if the condition is not met\n",
    "    print ('x is probably larger than 3')"
   ]
  },
  {
   "cell_type": "code",
   "execution_count": 13,
   "metadata": {},
   "outputs": [
    {
     "name": "stdout",
     "output_type": "stream",
     "text": [
      "Please type in any number you want to test, then press enter: 7\n",
      "x is probably larger than 3\n"
     ]
    }
   ],
   "source": [
    "#we can combine that with user input\n",
    "inp = input('Please type in any number you want to test, then press enter: ')\n",
    "x = float(inp)\n",
    "if x < 3:\n",
    "    print('x is smaller than 3')\n",
    "else:\n",
    "    print ('x is probably larger than 3')"
   ]
  },
  {
   "cell_type": "code",
   "execution_count": 14,
   "metadata": {},
   "outputs": [
    {
     "name": "stdout",
     "output_type": "stream",
     "text": [
      "Please type in any number you want to test, then press enter: 88\n",
      "x is greater than 3\n"
     ]
    }
   ],
   "source": [
    "#chained condition, more than 2 possibilities\n",
    "inp = input('Please type in any number you want to test, then press enter: ')\n",
    "x = float(inp)\n",
    "if x < 3:\n",
    "    print('x is smaller than 3')\n",
    "elif x > 3:\n",
    "    print('x is greater than 3')\n",
    "else:\n",
    "    print ('x is equal to 3')"
   ]
  },
  {
   "cell_type": "code",
   "execution_count": 15,
   "metadata": {
    "scrolled": true
   },
   "outputs": [
    {
     "name": "stdout",
     "output_type": "stream",
     "text": [
      "Please create your password, then press enter: yyy\n",
      "password created successfully\n",
      "Please enter your password, then press enter: u\n",
      "wrong password, self destruction initiating in 10 seconds\n",
      "10\n",
      "9\n",
      "8\n",
      "7\n",
      "6\n",
      "5\n",
      "4\n",
      "3\n",
      "2\n",
      "1\n",
      "Boom! Now you need a new computer.\n"
     ]
    }
   ],
   "source": [
    "#just some silly things we can do to challenge the user, like a password\n",
    "password = input('Please create your password, then press enter: ')\n",
    "print('password created successfully')\n",
    "\n",
    "inp = input('Please enter your password, then press enter: ')\n",
    "x = str(inp)\n",
    "if inp == password:\n",
    "    print('access granted')\n",
    "else:\n",
    "    print('wrong password, self destruction initiating in 10 seconds')\n",
    "    n = 10\n",
    "    while n > 0 :\n",
    "        print(n)\n",
    "        n = n - 1\n",
    "    print('Boom! Now you need a new computer.')"
   ]
  },
  {
   "cell_type": "code",
   "execution_count": null,
   "metadata": {},
   "outputs": [],
   "source": [
    "#conditional execution, 2 nested conditions\n",
    "x = 42\n",
    "if x > 1 :\n",
    "    print('x is larger than one')\n",
    "    if x < 100 :                              \n",
    "        print('It is also less than 100')  #note the hierarchical indentation\n",
    "print('All done')"
   ]
  },
  {
   "cell_type": "code",
   "execution_count": 16,
   "metadata": {},
   "outputs": [
    {
     "name": "stdout",
     "output_type": "stream",
     "text": [
      "Enter Fahrenheit Temperature:99\n",
      "37.22222222222222\n"
     ]
    }
   ],
   "source": [
    "#catching an exception. An exception stop the program\n",
    "inp = input('Enter Fahrenheit Temperature:')\n",
    "fahr = float(inp)\n",
    "cel = (fahr - 32.0) * 5.0 / 9.0\n",
    "print(cel)"
   ]
  },
  {
   "cell_type": "code",
   "execution_count": 17,
   "metadata": {},
   "outputs": [
    {
     "name": "stdout",
     "output_type": "stream",
     "text": [
      "Enter Fahrenheit Temperature:rgrg\n",
      "Please enter a number\n"
     ]
    }
   ],
   "source": [
    "#catch exception with try\n",
    "inp = input('Enter Fahrenheit Temperature:')\n",
    "try:\n",
    "    fahr = float(inp)\n",
    "    cel = (fahr - 32.0) * 5.0 / 9.0\n",
    "    print(cel)\n",
    "except:\n",
    "    print('Please enter a number')"
   ]
  },
  {
   "cell_type": "code",
   "execution_count": 20,
   "metadata": {},
   "outputs": [
    {
     "name": "stdout",
     "output_type": "stream",
     "text": [
      "Please enter a number: 5\n",
      "Please enter another number3\n",
      "first is larger than second\n",
      "nothing is wrong\n",
      "the try block is completed\n"
     ]
    }
   ],
   "source": [
    "first = input('Please enter a number: ')\n",
    "second = input('Please enter another number')\n",
    "try:\n",
    "    x = float(first)\n",
    "    y = float(second)\n",
    "    if x > y:\n",
    "        print('first is larger than second')\n",
    "except:\n",
    "    print('something is wrong')\n",
    "else:\n",
    "    print('nothing is wrong') \n",
    "finally:\n",
    "    print('the try block is completed')\n"
   ]
  },
  {
   "cell_type": "code",
   "execution_count": null,
   "metadata": {},
   "outputs": [],
   "source": []
  }
 ],
 "metadata": {
  "kernelspec": {
   "display_name": "Python 3",
   "language": "python",
   "name": "python3"
  },
  "language_info": {
   "codemirror_mode": {
    "name": "ipython",
    "version": 3
   },
   "file_extension": ".py",
   "mimetype": "text/x-python",
   "name": "python",
   "nbconvert_exporter": "python",
   "pygments_lexer": "ipython3",
   "version": "3.8.3"
  }
 },
 "nbformat": 4,
 "nbformat_minor": 2
}
